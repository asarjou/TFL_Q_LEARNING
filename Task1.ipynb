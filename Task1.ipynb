{
 "metadata": {
  "language_info": {
   "codemirror_mode": {
    "name": "ipython",
    "version": 3
   },
   "file_extension": ".py",
   "mimetype": "text/x-python",
   "name": "python",
   "nbconvert_exporter": "python",
   "pygments_lexer": "ipython3",
   "version": "3.7.9-final"
  },
  "orig_nbformat": 2,
  "kernelspec": {
   "name": "python3",
   "display_name": "Python 3.7.9 64-bit ('anaconda3': virtualenv)",
   "metadata": {
    "interpreter": {
     "hash": "7b189c02d6a845b34ef856e3938fda54312fac92b7ec0b38c351f1e97b11658b"
    }
   }
  }
 },
 "nbformat": 4,
 "nbformat_minor": 2,
 "cells": [
  {
   "cell_type": "code",
   "execution_count": 1,
   "metadata": {},
   "outputs": [],
   "source": [
    "import numpy as np\n",
    "import networkx as nx \n",
    "import matplotlib.pyplot as plt \n",
    "from pyvis.network import Network\n",
    "import random"
   ]
  },
  {
   "cell_type": "code",
   "execution_count": 2,
   "metadata": {},
   "outputs": [],
   "source": [
    "from Tube import Tube, SleepyTube\n",
    "from create_network import create_tube\n",
    "from Policy import E_greedy_policy\n",
    "from Q_Learning import Q_LEARNING "
   ]
  },
  {
   "cell_type": "code",
   "execution_count": 3,
   "metadata": {},
   "outputs": [],
   "source": [
    "random.seed(0)"
   ]
  },
  {
   "cell_type": "code",
   "execution_count": 4,
   "metadata": {},
   "outputs": [],
   "source": [
    "G = create_tube()\n",
    "G = G.lines()\n",
    "\n",
    "stations = list(G.nodes)\n",
    "stations = list(G.nodes)\n",
    "name_to_index = {k: v for v, k in enumerate(stations)}\n",
    "name_to_index['Westminster']\n",
    "index_to_name = {v: k for k, v in name_to_index.items()} #https://stackoverflow.com/questions/483666/reverse-invert-a-dictionary-mapping\n",
    "G1 = nx.relabel_nodes(G,name_to_index)"
   ]
  },
  {
   "cell_type": "code",
   "execution_count": 5,
   "metadata": {},
   "outputs": [],
   "source": [
    "tube = Tube(G1, 'Westminster')"
   ]
  },
  {
   "cell_type": "code",
   "execution_count": 6,
   "metadata": {},
   "outputs": [
    {
     "output_type": "stream",
     "name": "stdout",
     "text": [
      "{'Destination': 'Westminster', 'Current Station': 'Covent Garden', 'Avaialble Movements': ['Leicester Square', 'Holborn'], 'Current Line': 0}\n"
     ]
    }
   ],
   "source": [
    "obs = tube.reset()\n",
    "print(obs)"
   ]
  },
  {
   "cell_type": "code",
   "execution_count": 7,
   "metadata": {},
   "outputs": [],
   "source": [
    "obs, reward, done = tube.step(0)"
   ]
  },
  {
   "cell_type": "code",
   "execution_count": 8,
   "metadata": {},
   "outputs": [
    {
     "output_type": "stream",
     "name": "stdout",
     "text": [
      "{'Destination': 'Westminster', 'Current Station': 'Leicester Square', 'Avaialble Movements': ['Picadilly Circus', 'Covent Garden'], 'Current Line': {'color': 'darkblue'}}\n-1\n"
     ]
    }
   ],
   "source": [
    "print(obs)\n",
    "print(reward)"
   ]
  },
  {
   "cell_type": "code",
   "execution_count": 9,
   "metadata": {},
   "outputs": [
    {
     "output_type": "stream",
     "name": "stdout",
     "text": [
      "{'Destination': 'Westminster', 'Current Station': 'Picadilly Circus', 'Avaialble Movements': ['Green Park', 'Oxford Circus', 'Leicester Square', 'Charing Cross'], 'Current Line': {'color': 'darkblue'}}\n-1\n"
     ]
    }
   ],
   "source": [
    "obs, reward, done = tube.step(0)\n",
    "print(obs)\n",
    "print(reward) "
   ]
  },
  {
   "cell_type": "code",
   "execution_count": 10,
   "metadata": {},
   "outputs": [
    {
     "output_type": "stream",
     "name": "stdout",
     "text": [
      "{'Destination': 'Westminster', 'Current Station': 'Green Park', 'Avaialble Movements': ['Victoria', 'Westminster', 'Oxford Circus', 'Picadilly Circus', 'Hyde Park Corner', 'Bond Street'], 'Current Line': {'color': 'darkblue'}}\n-11\n"
     ]
    }
   ],
   "source": [
    "obs, reward, done = tube.step(0)\n",
    "print(obs)\n",
    "print(reward) #reward is lower due to delay!"
   ]
  },
  {
   "cell_type": "code",
   "execution_count": 12,
   "metadata": {},
   "outputs": [
    {
     "output_type": "stream",
     "name": "stdout",
     "text": [
      "Destination has been reached\n{'Destination': 'Westminster', 'Current Station': 'Westminster', 'Avaialble Movements': ['Embankment', \"St James's Park\", 'Green Park', 'Waterloo'], 'Current Line': {'color': 'grey'}}\n994\n"
     ]
    }
   ],
   "source": [
    "obs, reward, done = tube.step(1)\n",
    "print(obs)\n",
    "print(reward) #reward is lower due to change of platforms"
   ]
  },
  {
   "cell_type": "code",
   "execution_count": 11,
   "metadata": {},
   "outputs": [],
   "source": [
    "stube = SleepyTube(G1, 'Westminster')\n",
    "obs = stube.reset()"
   ]
  },
  {
   "cell_type": "code",
   "execution_count": 13,
   "metadata": {},
   "outputs": [
    {
     "output_type": "stream",
     "name": "stdout",
     "text": [
      "The agent has fallen asleep and ended up at Canon Street\n35\n{'Destination': 'Westminster', 'Current Station': 'Canon Street', 'Avaialble Movements': ['Mansion House', 'Monument'], 'Current Line': {'color': 'Green'}}\n-10\n"
     ]
    }
   ],
   "source": [
    "state, reward, done, obs = stube.step(0)\n",
    "print(state) #returns the state rather than the observations!\n",
    "print(obs) #but can also return observations\n",
    "print(reward)"
   ]
  },
  {
   "cell_type": "code",
   "execution_count": 14,
   "metadata": {},
   "outputs": [
    {
     "output_type": "stream",
     "name": "stdout",
     "text": [
      "The agent has fallen asleep and ended up at Tower Hill\n37\n{'Destination': 'Westminster', 'Current Station': 'Tower Hill', 'Avaialble Movements': ['Monument', 'Aldgate East'], 'Current Line': {'color': 'Green'}}\n0\n"
     ]
    }
   ],
   "source": [
    "state, reward, done, obs = stube.step(1)\n",
    "print(state) \n",
    "print(obs) \n",
    "print(reward) #delayed route"
   ]
  },
  {
   "cell_type": "code",
   "execution_count": 15,
   "metadata": {},
   "outputs": [
    {
     "output_type": "stream",
     "name": "stdout",
     "text": [
      "36\n{'Destination': 'Westminster', 'Current Station': 'Monument', 'Avaialble Movements': ['Canon Street', 'Tower Hill'], 'Current Line': {'color': 'Green'}}\n-11\n"
     ]
    }
   ],
   "source": [
    "state, reward, done, obs = stube.step(0)\n",
    "print(state) \n",
    "print(obs) \n",
    "print(reward)"
   ]
  },
  {
   "cell_type": "code",
   "execution_count": 16,
   "metadata": {},
   "outputs": [
    {
     "output_type": "stream",
     "name": "stdout",
     "text": [
      "35\n{'Destination': 'Westminster', 'Current Station': 'Canon Street', 'Avaialble Movements': ['Mansion House', 'Monument'], 'Current Line': {'color': 'Green'}}\n-11\n"
     ]
    }
   ],
   "source": [
    "state, reward, done, obs = stube.step(0)\n",
    "print(state)\n",
    "print(obs) \n",
    "print(reward)\n",
    "#agent randomly fell asleep"
   ]
  },
  {
   "cell_type": "code",
   "execution_count": 17,
   "metadata": {},
   "outputs": [
    {
     "output_type": "stream",
     "name": "stdout",
     "text": [
      "The agent has fallen asleep and ended up at Blackfriars\n33\n{'Destination': 'Westminster', 'Current Station': 'Blackfriars', 'Avaialble Movements': ['Temple', 'Mansion House'], 'Current Line': {'color': 'Green'}}\n0\n"
     ]
    }
   ],
   "source": [
    "state, reward, done, obs = stube.step(0)\n",
    "print(state)\n",
    "print(obs) \n",
    "print(reward)"
   ]
  },
  {
   "cell_type": "code",
   "execution_count": 18,
   "metadata": {},
   "outputs": [
    {
     "output_type": "stream",
     "name": "stdout",
     "text": [
      "The agent has fallen asleep and ended up at Embankment\n3\n{'Destination': 'Westminster', 'Current Station': 'Embankment', 'Avaialble Movements': ['Westminster', 'Temple', 'Charing Cross', 'Waterloo'], 'Current Line': {'color': 'Green'}}\n-10\n"
     ]
    }
   ],
   "source": [
    "state, reward, done, obs = stube.step(0)\n",
    "print(state)\n",
    "print(obs) \n",
    "print(reward)"
   ]
  },
  {
   "cell_type": "code",
   "execution_count": 19,
   "metadata": {},
   "outputs": [
    {
     "output_type": "stream",
     "name": "stdout",
     "text": [
      "Destination has been reached\n2\n{'Destination': 'Westminster', 'Current Station': 'Westminster', 'Avaialble Movements': ['Embankment', \"St James's Park\", 'Green Park', 'Waterloo'], 'Current Line': {'color': 'Green'}}\n999\n"
     ]
    }
   ],
   "source": [
    "state, reward, done, obs = stube.step(0)\n",
    "print(state)\n",
    "print(obs) \n",
    "print(reward)"
   ]
  },
  {
   "cell_type": "code",
   "execution_count": 20,
   "metadata": {},
   "outputs": [
    {
     "output_type": "execute_result",
     "data": {
      "text/plain": [
       "<IPython.lib.display.IFrame at 0x7f8875f82490>"
      ],
      "text/html": "\n        <iframe\n            width=\"500px\"\n            height=\"500px\"\n            src=\"nx.html\"\n            frameborder=\"0\"\n            allowfullscreen\n        ></iframe>\n        "
     },
     "metadata": {},
     "execution_count": 20
    }
   ],
   "source": [
    "nt = Network('500px','500px', notebook=True)\n",
    "\n",
    "nt.from_nx(G)\n",
    "nt.show_buttons()\n",
    "nt.show('nx.html')"
   ]
  },
  {
   "cell_type": "code",
   "execution_count": null,
   "metadata": {},
   "outputs": [],
   "source": []
  }
 ]
}